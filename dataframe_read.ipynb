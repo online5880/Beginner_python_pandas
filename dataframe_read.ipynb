{
 "cells": [
  {
   "cell_type": "code",
   "execution_count": null,
   "metadata": {},
   "outputs": [],
   "source": [
    "# DataFrame 조회(Read)\n",
    "# 컬럼\n",
    "# loc, iloc\n",
    "# indexing 과 활용"
   ]
  },
  {
   "cell_type": "code",
   "execution_count": null,
   "metadata": {},
   "outputs": [],
   "source": [
    "import pandas as pd\n",
    "\n",
    "sample = pd.read_csv(\"내국인 생활인구.csv\", encoding=\"cp949\")\n",
    "\n",
    "# 컬럼명을 사영해서 원하는 컬럼만 뽑아낼 수 있다.\n",
    "sample.columns"
   ]
  },
  {
   "cell_type": "markdown",
   "metadata": {},
   "source": [
    "# 컬럼명 가공하기\n",
    "## 일자(stdr_de_id) -> 일자\n",
    "이런식으로 가공"
   ]
  },
  {
   "cell_type": "code",
   "execution_count": null,
   "metadata": {},
   "outputs": [],
   "source": [
    "# split 함수를 사용\n",
    "\"안녕(hello)\".split(\"(\")"
   ]
  },
  {
   "cell_type": "code",
   "execution_count": null,
   "metadata": {},
   "outputs": [],
   "source": [
    "newCols = []\n",
    "cols = sample.columns\n",
    "\n",
    "for col in cols:\n",
    "    newCols.append(col.split(\"(\")[0])\n",
    "\n",
    "newCols"
   ]
  },
  {
   "cell_type": "code",
   "execution_count": null,
   "metadata": {},
   "outputs": [],
   "source": [
    "sample.columns = newCols\n",
    "sample.head()"
   ]
  },
  {
   "cell_type": "code",
   "execution_count": null,
   "metadata": {},
   "outputs": [],
   "source": [
    "# 일자 컬럼을 인덱스로 설정\n",
    "sample = sample.set_index(\"일자\")\n",
    "sample.head()"
   ]
  },
  {
   "cell_type": "code",
   "execution_count": null,
   "metadata": {},
   "outputs": [],
   "source": [
    "# 컬럼 조회\n",
    "sample[\"시간\"]"
   ]
  },
  {
   "cell_type": "code",
   "execution_count": null,
   "metadata": {},
   "outputs": [],
   "source": [
    "# 2개 이상의 컬럼을 동시에 조회\n",
    "sample[[\"시간\", \"남자10~14세\"]]"
   ]
  },
  {
   "cell_type": "markdown",
   "metadata": {},
   "source": [
    "# loc, iloc 함수\n",
    "## 두 함수를 사용하여 원하는 행 또는 열에 인덱싱, 슬라이싱이 가능하다.\n",
    "- loc[행인덱스] -> row조회\n",
    "- loc[행인덱스, 컬럼명] -> row&column 조회\n",
    "\n",
    " \n",
    "- iloc[행인덱스번호] -> row 조회\n",
    "- iloc[행인덱스번호, 열인덱스번호] -> row&column 조회"
   ]
  },
  {
   "cell_type": "code",
   "execution_count": null,
   "metadata": {},
   "outputs": [],
   "source": [
    "sample.head()"
   ]
  },
  {
   "cell_type": "code",
   "execution_count": null,
   "metadata": {},
   "outputs": [],
   "source": [
    "sample.loc[20170226]"
   ]
  },
  {
   "cell_type": "code",
   "execution_count": null,
   "metadata": {},
   "outputs": [],
   "source": [
    "sample.loc[20170226:20180317]\n",
    "# 판다스 loc 함수에선 : 뒤에 있는 영역까지 포함해서 조회한다."
   ]
  },
  {
   "cell_type": "code",
   "execution_count": null,
   "metadata": {},
   "outputs": [],
   "source": [
    "sample.loc[:, \"시간\":\"집계구코드\"]"
   ]
  },
  {
   "cell_type": "code",
   "execution_count": null,
   "metadata": {},
   "outputs": [],
   "source": [
    "sample.iloc[0]"
   ]
  },
  {
   "cell_type": "code",
   "execution_count": null,
   "metadata": {},
   "outputs": [],
   "source": [
    "sample.iloc[:, 0:3]\n",
    "# iloc 는 마지막 포함 x"
   ]
  },
  {
   "cell_type": "markdown",
   "metadata": {},
   "source": [
    "# indexing 과 활용\n",
    "조건에 따라 원하는 부분만 가져오고 싶어하는 경우가 있다. 이런것을 인덱싱이라고 함."
   ]
  },
  {
   "cell_type": "code",
   "execution_count": null,
   "metadata": {},
   "outputs": [],
   "source": [
    "sample.head()"
   ]
  },
  {
   "cell_type": "code",
   "execution_count": null,
   "metadata": {},
   "outputs": [],
   "source": [
    "sample[\"생활인구합계\"] >= 1000"
   ]
  },
  {
   "cell_type": "code",
   "execution_count": null,
   "metadata": {},
   "outputs": [],
   "source": [
    "sample[sample[\"생활인구합계\"] >= 1000]"
   ]
  },
  {
   "cell_type": "code",
   "execution_count": null,
   "metadata": {},
   "outputs": [],
   "source": [
    "sample.loc[sample[\"생활인구합계\"] >= 1000]"
   ]
  },
  {
   "cell_type": "code",
   "execution_count": null,
   "metadata": {},
   "outputs": [],
   "source": [
    "condition = (sample[\"생활인구합계\"] >= 1000) & (sample[\"행정동코드\"] == 11680610)\n",
    "condition"
   ]
  },
  {
   "cell_type": "code",
   "execution_count": null,
   "metadata": {},
   "outputs": [],
   "source": [
    "sample[condition]"
   ]
  },
  {
   "cell_type": "markdown",
   "metadata": {},
   "source": [
    "dataframe 에서 인덱싱은 & , | 비트연산자를 사용한다."
   ]
  }
 ],
 "metadata": {
  "kernelspec": {
   "display_name": "base",
   "language": "python",
   "name": "python3"
  },
  "language_info": {
   "codemirror_mode": {
    "name": "ipython",
    "version": 3
   },
   "file_extension": ".py",
   "mimetype": "text/x-python",
   "name": "python",
   "nbconvert_exporter": "python",
   "pygments_lexer": "ipython3",
   "version": "3.12.4"
  }
 },
 "nbformat": 4,
 "nbformat_minor": 2
}
